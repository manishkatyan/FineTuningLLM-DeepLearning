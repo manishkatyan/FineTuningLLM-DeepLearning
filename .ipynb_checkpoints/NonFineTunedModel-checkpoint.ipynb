{
 "cells": [
  {
   "cell_type": "code",
   "execution_count": 4,
   "id": "bf3593a7-d398-4701-a583-486661c6ecea",
   "metadata": {},
   "outputs": [],
   "source": [
    "#from llama import BasicModelRunner\n",
    "#non_finetuned = BasicModelRunner(\"meta-llama/Llama-2-7b-hf\")\n",
    "#non_finetuned_output = non_finetuned(\"Tell me how to train my dog to sit\")\n",
    "#print(non_finetuned_output)"
   ]
  },
  {
   "cell_type": "code",
   "execution_count": 5,
   "id": "46cd921d-c93d-4304-8387-da5b32bcc454",
   "metadata": {},
   "outputs": [],
   "source": [
    "from llama import LLMEngine\n",
    "\n",
    "llm = LLMEngine(\n",
    "    id=\"marketing\",\n",
    "    model_name=\"meta-llama/Llama-2-7b-chat-hf\",\n",
    "    config={\n",
    "        \"production\": {\n",
    "            \"key\": \"eb5dda8443960e53eb566e5051c9c58c49744976\",\n",
    "        }\n",
    "    },\n",
    ")"
   ]
  },
  {
   "cell_type": "code",
   "execution_count": null,
   "id": "6a4d26bd-59c7-41a7-b1d3-8bdb03e2b527",
   "metadata": {},
   "outputs": [],
   "source": []
  }
 ],
 "metadata": {
  "kernelspec": {
   "display_name": "Python 3 (ipykernel)",
   "language": "python",
   "name": "python3"
  },
  "language_info": {
   "codemirror_mode": {
    "name": "ipython",
    "version": 3
   },
   "file_extension": ".py",
   "mimetype": "text/x-python",
   "name": "python",
   "nbconvert_exporter": "python",
   "pygments_lexer": "ipython3",
   "version": "3.9.18"
  }
 },
 "nbformat": 4,
 "nbformat_minor": 5
}
